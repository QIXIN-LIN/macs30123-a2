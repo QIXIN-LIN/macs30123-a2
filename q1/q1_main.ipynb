{
 "cells": [
  {
   "cell_type": "markdown",
   "metadata": {},
   "source": [
    "# Q1: Scalable Serverless Architectures"
   ]
  },
  {
   "cell_type": "markdown",
   "metadata": {},
   "source": [
    "### Step0: Set up all dependencies"
   ]
  },
  {
   "cell_type": "code",
   "execution_count": 1,
   "metadata": {},
   "outputs": [],
   "source": [
    "import json\n",
    "import boto3\n",
    "import os"
   ]
  },
  {
   "cell_type": "markdown",
   "metadata": {},
   "source": [
    "### Step1: Define the send_survey function"
   ]
  },
  {
   "cell_type": "code",
   "execution_count": 2,
   "metadata": {},
   "outputs": [],
   "source": [
    "def send_survey(survey_path, sqs_url):\n",
    "    '''\n",
    "        Input:\n",
    "            survey_path (str): path to JSON survey data (e.g. ‘./survey.json’)\n",
    "            sqs_url (str): URL for SQS queue\n",
    "        Output:\n",
    "            StatusCode (int): indicating whether the survey was successfully \n",
    "            sent into the SQS queue (200) or not (0)\n",
    "    '''\n",
    "    # Load survey data from the file\n",
    "    with open(survey_path, 'r') as file:\n",
    "        survey_data = json.load(file)\n",
    "\n",
    "    # Create a boto3 client for SQS\n",
    "    sqs_client = boto3.client('sqs')\n",
    "\n",
    "    # Send the message to the SQS queue\n",
    "    try:\n",
    "        response = sqs_client.send_message(\n",
    "            QueueUrl=sqs_url,\n",
    "            MessageBody=json.dumps(survey_data)\n",
    "        )\n",
    "        return 200\n",
    "    except Exception as e:\n",
    "        print(f\"Failed to send message: {e}\")\n",
    "        return 0"
   ]
  },
  {
   "cell_type": "markdown",
   "metadata": {},
   "source": [
    "### Step2: Create S3 Bucket & DynamoDB Table"
   ]
  },
  {
   "cell_type": "code",
   "execution_count": 3,
   "metadata": {},
   "outputs": [
    {
     "name": "stdout",
     "output_type": "stream",
     "text": [
      "S3 bucket a2q1-bucket created successfully.\n",
      "DynamoDB table a2q1-table created successfully.\n"
     ]
    }
   ],
   "source": [
    "lambda_client = boto3.client('lambda')\n",
    "iam_client = boto3.client('iam')\n",
    "\n",
    "# Initialize S3 client\n",
    "s3_client = boto3.client('s3')\n",
    "# Define the bucket name\n",
    "bucket_name = 'a2q1-bucket'\n",
    "\n",
    "# Create the S3 bucket\n",
    "try:\n",
    "    s3_client.create_bucket(Bucket=bucket_name)\n",
    "    print(f\"S3 bucket {bucket_name} created successfully.\")\n",
    "except Exception as e:\n",
    "    print(f\"Error creating S3 bucket {bucket_name}: {str(e)}\")\n",
    "\n",
    "# Attempt to retrieve the IAM role\n",
    "try:\n",
    "    role = iam_client.get_role(RoleName='LabRole')\n",
    "    role_arn = role['Role']['Arn']\n",
    "except Exception as e:\n",
    "    print(f\"Error retrieving IAM role: {str(e)}\")\n",
    "\n",
    "# Initialize a DynamoDB client\n",
    "dynamodb = boto3.resource('dynamodb')\n",
    "dynamodb_client = boto3.client('dynamodb')\n",
    "# Define the table name\n",
    "table_name = 'a2q1-table'\n",
    "\n",
    "# Create the DynamoDB table\n",
    "try: \n",
    "    table = dynamodb.create_table(\n",
    "        TableName=table_name,\n",
    "        KeySchema=[\n",
    "            {'AttributeName': 'user_id', 'KeyType': 'HASH'},\n",
    "            {'AttributeName': 'timestamp', 'KeyType': 'RANGE'}\n",
    "        ],\n",
    "        AttributeDefinitions=[\n",
    "            {'AttributeName': 'user_id', 'AttributeType': 'S'},\n",
    "            {'AttributeName': 'timestamp', 'AttributeType': 'S'}\n",
    "        ],\n",
    "        ProvisionedThroughput={\n",
    "            'ReadCapacityUnits': 1,\n",
    "            'WriteCapacityUnits': 1\n",
    "        }\n",
    "    )\n",
    "    table.meta.client.get_waiter('table_exists').wait(TableName=table_name)\n",
    "    print(f\"DynamoDB table {table_name} created successfully.\")\n",
    "except Exception as e:\n",
    "    print(f\"Error creating DynamoDB table: {str(e)}\")\n"
   ]
  },
  {
   "cell_type": "markdown",
   "metadata": {},
   "source": [
    "### Step3: Create Lambda function"
   ]
  },
  {
   "cell_type": "code",
   "execution_count": 7,
   "metadata": {},
   "outputs": [
    {
     "name": "stdout",
     "output_type": "stream",
     "text": [
      "{'ResponseMetadata': {'RequestId': 'b34a034e-8f5c-43a3-81b1-e5e2ca64f69a', 'HTTPStatusCode': 201, 'HTTPHeaders': {'date': 'Thu, 02 May 2024 19:42:07 GMT', 'content-type': 'application/json', 'content-length': '1309', 'connection': 'keep-alive', 'x-amzn-requestid': 'b34a034e-8f5c-43a3-81b1-e5e2ca64f69a'}, 'RetryAttempts': 0}, 'FunctionName': 'a2q1_lambda', 'FunctionArn': 'arn:aws:lambda:us-east-1:102168828713:function:a2q1_lambda', 'Runtime': 'python3.11', 'Role': 'arn:aws:iam::102168828713:role/LabRole', 'Handler': 'q1c_lambda.lambda_handler', 'CodeSize': 1208, 'Description': '', 'Timeout': 300, 'MemorySize': 128, 'LastModified': '2024-05-02T19:42:07.749+0000', 'CodeSha256': 'm7oerYXAOsyLz55Wm0oPPhfabWdEtKhv/2gMDWfisCc=', 'Version': '$LATEST', 'TracingConfig': {'Mode': 'PassThrough'}, 'RevisionId': '8558eb6f-1398-4589-b658-7caf622da4e0', 'State': 'Pending', 'StateReason': 'The function is being created.', 'StateReasonCode': 'Creating', 'PackageType': 'Zip', 'Architectures': ['x86_64'], 'EphemeralStorage': {'Size': 512}, 'SnapStart': {'ApplyOn': 'None', 'OptimizationStatus': 'Off'}, 'RuntimeVersionConfig': {'RuntimeVersionArn': 'arn:aws:lambda:us-east-1::runtime:1bebe65bb4f19dd8c37baeb0be18a0b278155b42bfe12dd28480199436d18229'}, 'LoggingConfig': {'LogFormat': 'Text', 'LogGroup': '/aws/lambda/a2q1_lambda'}}\n",
      "{'ResponseMetadata': {'RequestId': '49641d3f-f545-4969-b8c7-aeee9098cbaf', 'HTTPStatusCode': 200, 'HTTPHeaders': {'date': 'Thu, 02 May 2024 19:42:08 GMT', 'content-type': 'application/json', 'content-length': '35', 'connection': 'keep-alive', 'x-amzn-requestid': '49641d3f-f545-4969-b8c7-aeee9098cbaf'}, 'RetryAttempts': 0}, 'ReservedConcurrentExecutions': 10}\n"
     ]
    }
   ],
   "source": [
    "with open('q1c_lambda.zip', 'rb') as f:\n",
    "    lambda_zip = f.read()\n",
    "\n",
    "# Create or update Lambda function\n",
    "try:\n",
    "    response = lambda_client.create_function(\n",
    "        FunctionName='a2q1_lambda',\n",
    "        Runtime='python3.11',\n",
    "        Role=role['Role']['Arn'],\n",
    "        Handler='q1c_lambda.lambda_handler',\n",
    "        Code=dict(ZipFile=lambda_zip),\n",
    "        Timeout=300\n",
    ")\n",
    "    print(response)\n",
    "except lambda_client.exceptions.ResourceConflictException:\n",
    "    response = lambda_client.update_function_code(\n",
    "        FunctionName='a2q1_lambda',\n",
    "        ZipFile=lambda_zip\n",
    "        )\n",
    "    print(response)\n",
    "except Exception as e:\n",
    "    print(f\"Error creating or updating Lambda function: {str(e)}\")\n",
    "\n",
    "# Set concurrency for Lambda function\n",
    "try:\n",
    "    response = lambda_client.put_function_concurrency(\n",
    "        FunctionName='a2q1_lambda',\n",
    "        ReservedConcurrentExecutions=10\n",
    "    )\n",
    "    print(response)\n",
    "except Exception as e:\n",
    "    print(f\"Error setting concurrency for Lambda function: {str(e)}\")"
   ]
  },
  {
   "cell_type": "markdown",
   "metadata": {},
   "source": [
    "### Step4: Create SQS & Configure SQS to act as a trigger for a Lambda function"
   ]
  },
  {
   "cell_type": "code",
   "execution_count": 9,
   "metadata": {},
   "outputs": [
    {
     "name": "stdout",
     "output_type": "stream",
     "text": [
      "Queue created successfully: https://sqs.us-east-1.amazonaws.com/102168828713/a2q1-queue\n",
      "Visibility timeout set successfully.\n",
      "Event source mapping created successfully: {'ResponseMetadata': {'RequestId': '8a18f498-15e9-49c1-a19b-e76066f0344c', 'HTTPStatusCode': 202, 'HTTPHeaders': {'date': 'Thu, 02 May 2024 19:43:01 GMT', 'content-type': 'application/json', 'content-length': '875', 'connection': 'keep-alive', 'x-amzn-requestid': '8a18f498-15e9-49c1-a19b-e76066f0344c'}, 'RetryAttempts': 0}, 'UUID': 'c2d71cfc-da22-495a-acea-eec4da949b81', 'BatchSize': 10, 'MaximumBatchingWindowInSeconds': 0, 'EventSourceArn': 'arn:aws:sqs:us-east-1:102168828713:a2q1-queue', 'FunctionArn': 'arn:aws:lambda:us-east-1:102168828713:function:a2q1_lambda', 'LastModified': datetime.datetime(2024, 5, 2, 14, 43, 1, 186000, tzinfo=tzlocal()), 'State': 'Creating', 'StateTransitionReason': 'USER_INITIATED', 'FunctionResponseTypes': []}\n"
     ]
    }
   ],
   "source": [
    "import boto3\n",
    "\n",
    "# Create an SQS client\n",
    "sqs_client = boto3.client('sqs')\n",
    "lambda_client = boto3.client('lambda')  # Ensure lambda_client is defined\n",
    "# Define the name of the queue\n",
    "queue_name = 'a2q1-queue'\n",
    "\n",
    "# Create the queue\n",
    "try:\n",
    "    response = sqs_client.create_queue(\n",
    "        QueueName=queue_name\n",
    "    )\n",
    "    print(\"Queue created successfully:\", response['QueueUrl'])\n",
    "except sqs_client.exceptions.QueueNameExists:\n",
    "    print(\"Queue with the same name already exists.\")\n",
    "except Exception as e:\n",
    "    print(\"An error occurred:\", e)\n",
    "\n",
    "# Set visibility timeout and create event source mapping\n",
    "try:\n",
    "    # Get the URL of the queue\n",
    "    queue_url_response = sqs_client.get_queue_url(QueueName=queue_name)\n",
    "    queue_url = queue_url_response['QueueUrl']\n",
    "\n",
    "    # Get the queue ARN using the queue URL\n",
    "    queue_attributes_response = sqs_client.get_queue_attributes(\n",
    "        QueueUrl=queue_url,\n",
    "        AttributeNames=['QueueArn']\n",
    "    )\n",
    "    queue_arn = queue_attributes_response['Attributes']['QueueArn']\n",
    "\n",
    "    # Set queue attributes\n",
    "    sqs_client.set_queue_attributes(\n",
    "        QueueUrl=queue_url,\n",
    "        Attributes={'VisibilityTimeout': '1800'}\n",
    "    )\n",
    "    print(\"Visibility timeout set successfully.\")\n",
    "\n",
    "    # Create event source mapping between Lambda and the SQS queue\n",
    "    response = lambda_client.create_event_source_mapping(\n",
    "        FunctionName='a2q1_lambda',\n",
    "        EventSourceArn=queue_arn,\n",
    "        Enabled=True,\n",
    "        BatchSize=10\n",
    "    )\n",
    "    mapping_uuid = response['UUID']\n",
    "    print(\"Event source mapping created successfully:\", response)\n",
    "\n",
    "except Exception as e:\n",
    "    print(f\"An error occurred: {str(e)}\")"
   ]
  },
  {
   "cell_type": "markdown",
   "metadata": {},
   "source": [
    "### Testing: Send .json test data to the queue"
   ]
  },
  {
   "cell_type": "code",
   "execution_count": 10,
   "metadata": {},
   "outputs": [
    {
     "name": "stdout",
     "output_type": "stream",
     "text": [
      "File: test1.json, Status Code: 200\n",
      "File: test6.json, Status Code: 200\n",
      "File: test7.json, Status Code: 200\n",
      "File: test8.json, Status Code: 200\n",
      "File: test4.json, Status Code: 200\n",
      "File: test5.json, Status Code: 200\n",
      "File: test9.json, Status Code: 200\n",
      "File: test10.json, Status Code: 200\n",
      "File: test2.json, Status Code: 200\n",
      "File: test3.json, Status Code: 200\n"
     ]
    }
   ],
   "source": [
    "json_directory = './test_json'\n",
    "\n",
    "# Check if the directory exists\n",
    "if not os.path.exists(json_directory):\n",
    "    print(f\"Directory not found: {json_directory}\")\n",
    "else:\n",
    "    # Iterate over each file in the directory and send it to the SQS queue\n",
    "    for filename in os.listdir(json_directory):\n",
    "        if filename.endswith('.json'):\n",
    "            file_path = os.path.join(json_directory, filename)\n",
    "            status_code = send_survey(file_path, queue_url)\n",
    "            print(f\"File: {filename}, Status Code: {status_code}\")"
   ]
  },
  {
   "cell_type": "markdown",
   "metadata": {},
   "source": [
    "### Ending: Delete relevant services"
   ]
  },
  {
   "cell_type": "code",
   "execution_count": 11,
   "metadata": {},
   "outputs": [
    {
     "name": "stdout",
     "output_type": "stream",
     "text": [
      "Event source mapping deleted successfully\n",
      "SQS Queue deleted successfully: {'ResponseMetadata': {'RequestId': '88530b10-42ac-5e8e-a8e5-55bdadfc82e8', 'HTTPStatusCode': 200, 'HTTPHeaders': {'x-amzn-requestid': '88530b10-42ac-5e8e-a8e5-55bdadfc82e8', 'date': 'Thu, 02 May 2024 19:44:16 GMT', 'content-type': 'application/x-amz-json-1.0', 'content-length': '0', 'connection': 'keep-alive'}, 'RetryAttempts': 0}}\n",
      "S3 Bucket deleted successfully\n",
      "DynamoDB Table deleted successfully\n",
      "Lambda Function deleted successfully\n"
     ]
    }
   ],
   "source": [
    "# Delete the event source mapping\n",
    "try:\n",
    "    lambda_client.delete_event_source_mapping(UUID=mapping_uuid)\n",
    "    print(\"Event source mapping deleted successfully\")\n",
    "except Exception as e:\n",
    "    print(\"Failed to delete event source mapping:\", str(e))\n",
    "    \n",
    "# Delete the SQS queue\n",
    "try:\n",
    "    sqs_response = sqs_client.delete_queue(QueueUrl=queue_url)\n",
    "    print(\"SQS Queue deleted successfully:\", sqs_response)\n",
    "except Exception as e:\n",
    "    print(\"Failed to delete SQS Queue:\", str(e))\n",
    "\n",
    "# Delete the S3 bucket and all its contents\n",
    "try:\n",
    "    bucket_objects = s3_client.list_objects_v2(Bucket=bucket_name)\n",
    "    if 'Contents' in bucket_objects:\n",
    "        for obj in bucket_objects['Contents']:\n",
    "            s3_client.delete_object(Bucket=bucket_name, Key=obj['Key'])\n",
    "    s3_client.delete_bucket(Bucket=bucket_name)\n",
    "    print(\"S3 Bucket deleted successfully\")\n",
    "except Exception as e:\n",
    "    print(\"Failed to delete S3 Bucket:\", str(e))\n",
    "\n",
    "# Delete the DynamoDB table\n",
    "try:\n",
    "    dynamodb_client.delete_table(TableName=table_name)\n",
    "    print(\"DynamoDB Table deleted successfully\")\n",
    "except Exception as e:\n",
    "    print(\"Failed to delete DynamoDB Table:\", str(e))\n",
    "\n",
    "# Delete the Lambda function\n",
    "try:\n",
    "    lambda_client.delete_function(FunctionName='a2q1_lambda')\n",
    "    print(\"Lambda Function deleted successfully\")\n",
    "except Exception as e:\n",
    "    print(\"Failed to delete Lambda Function:\", str(e))\n",
    "\n"
   ]
  }
 ],
 "metadata": {
  "kernelspec": {
   "display_name": ".venv",
   "language": "python",
   "name": "python3"
  },
  "language_info": {
   "codemirror_mode": {
    "name": "ipython",
    "version": 3
   },
   "file_extension": ".py",
   "mimetype": "text/x-python",
   "name": "python",
   "nbconvert_exporter": "python",
   "pygments_lexer": "ipython3",
   "version": "3.10.14"
  }
 },
 "nbformat": 4,
 "nbformat_minor": 2
}
